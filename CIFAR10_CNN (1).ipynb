{
 "cells": [
  {
   "cell_type": "markdown",
   "metadata": {
    "id": "BZ7-mJLesDu1"
   },
   "source": [
    "\n",
    "# Image Classification with CNN\n",
    "---\n",
    "---\n",
    "# ⭐'파일 - 드라이브에 사본 저장' 버튼을 눌러 개인 드라이브에 사본을 생성한 뒤 수정⭐\n",
    "---\n",
    "---\n",
    "- 현재 Ver의 소개\n",
    "> - CPU 처리 (현재 처리 방법)\n",
    " - GPU 처리 : https://tutorials.pytorch.kr/beginner/basics/buildmodel_tutorial.html 참조\n",
    " - Colab GPU 세팅 : https://hichoe95.tistory.com/29 참조\n",
    "\n",
    "- 현재 Model 소개\n",
    "> - LeNet-5 :   \n",
    "Yann LeCun 연구팀이 1998년에 LeNet-5를 발표했다. LeNet-5에서는 입력 이미지의 크기가 커졌고, Fully connected layer가 추가되었다.   \n",
    "LeNet-1에서는 16x16로 이미지를 줄이고 28x28 중앙에 위치시켰지만, LeNet-5에서는 28x28 이미지를 32x32의 중앙에 위치시켰다. 이처럼 LeNet-5에서 LeNet-1 보다 더 큰 이미지를 사용했기 때문에 이미지의 Detail한 부분까지 고려하여 성능이 더 높아진 부분도 있다.   \n",
    "또한, LeNet-5는 Network가 크기 때문에 Parameter 수는 6만개에 달한다 (DNN: 약 12만개, LeNet-1: 약 3천개).   \n",
    "\n",
    "- CIFAR10\n",
    "> - 내용 : 10가지 범주를 가진 32X32 픽셀의 컬러 이미지 데이터셋\n",
    " - 범주 : [비행기, 자동차, 새, 고양이, 사슴, 개, 개구리, 말, 배, 트럭]    \n",
    " - train : test = 50k : 10k인 총 60k개의 이미지 데이터\n",
    "\n",
    "- 전체 흐름\n",
    "> 0. 패키지 로딩 & 환경 설정 \n",
    " 1. 데이터 불러오기\n",
    " 2. 모형 구축\n",
    " 3. 모형 학습\n",
    " 4. Test 데이터 예측\n",
    "\n",
    "\n",
    "\n",
    "- 현재 모형\n",
    "\n",
    "|Order|Input data struct|Layer|Filter|Stride|Output data struct|\n",
    "|:-:|:-|:-|:-:|:-:|:-|\n",
    "|0|32 X 32 X 3|Input data|\n",
    "|1|32 X 32 X 3|Conv1 + ReLU|5 X 5|1|28 X 28 X 6|\n",
    "|2|28 X 28 X 6|MaxPool|2 X 2|2|14 X 14 X 6|\n",
    "|3|14 X 14 X 6|Conv2 + ReLU|5 X 5|1|10 X 10 X 16|\n",
    "|4|10 X 10 X 16|MaxPool|2 X 2|2|5 X 5 X 16|\n",
    "|5|5 X 5 X 16|Flatten|||400 X 1|\n",
    "|6|400 X 1|FC + ReLU|||120 X 1|\n",
    "|7|120 X 1|FC + ReLU|||84 X 1|\n",
    "|8|84 X 1|FC|||10 X 1|\n",
    "|9||Output data|||10 X 1|"
   ]
  },
  {
   "cell_type": "markdown",
   "metadata": {
    "id": "LTAi7sNw9Pr4"
   },
   "source": [
    "# 0. 패키지 로딩 & 환경 설정"
   ]
  },
  {
   "cell_type": "code",
   "execution_count": 1,
   "metadata": {
    "id": "ZdNJqbSEPKrJ"
   },
   "outputs": [],
   "source": [
    "import torch\n",
    "import torchvision\n",
    "import torchvision.transforms as transforms\n",
    "import torch.nn as nn #deep learning model에 필요한 모듈이 모아져있는 패키지\n",
    "import torch.nn.functional as F #nn과 같은 모듈이 모아져 있지만 함수의 input으로 반드시 연산이 되어야 하는 값을 받음.\n",
    "import torch.optim as optim #학습에 관련된 optimizing method가 있는 패키지\n",
    "import matplotlib.pyplot as plt #시각화 패키지\n",
    "import numpy as np"
   ]
  },
  {
   "cell_type": "code",
   "execution_count": 4,
   "metadata": {},
   "outputs": [
    {
     "name": "stdout",
     "output_type": "stream",
     "text": [
      "PyTorch version: 1.11.0\n",
      "CUDA version: 11.3\n"
     ]
    }
   ],
   "source": [
    "print(\"PyTorch version: {}\".format(torch.__version__))\n",
    "print(\"CUDA version: {}\".format(torch.version.cuda))"
   ]
  },
  {
   "cell_type": "code",
   "execution_count": 2,
   "metadata": {
    "id": "gdg6sxcSPOQ0"
   },
   "outputs": [
    {
     "data": {
      "text/plain": [
       "<torch._C.Generator at 0x1d420dcfd90>"
      ]
     },
     "execution_count": 2,
     "metadata": {},
     "output_type": "execute_result"
    }
   ],
   "source": [
    "# 고정\n",
    "torch.manual_seed(42)"
   ]
  },
  {
   "cell_type": "markdown",
   "metadata": {
    "id": "wqGfM1dB9aul"
   },
   "source": [
    "# 1. 데이터 불러오기"
   ]
  },
  {
   "cell_type": "code",
   "execution_count": 3,
   "metadata": {
    "id": "leMeRC49PPPH"
   },
   "outputs": [],
   "source": [
    "transform = transforms.Compose( \n",
    "    [transforms.ToTensor(), #이미지가 0~1사이 값으로 변경 \n",
    "     transforms.Normalize((0.5, 0.5, 0.5), (0.5, 0.5, 0.5))]\n",
    ")\n",
    "\n",
    "\n",
    "####여러단계로 데이터를 변환해야하는 경우 transforms.Compose()에서 여러단계를 한번에 묶을 수 있음\n",
    "####ToTensor를 통해 텐서형태로 이미지를 변환함(numpy배열, PIL이미지 형식인 경우 ToTensor를 사용하여 텐서형식으로 변환\n",
    "####normalize에서 평균,표준편차 사용하여 이미지를 정규화함->텐서를 가져와 평균 및 표준 편차로 정규화\n",
    "####평균표준편차가 3개인 이유는 3개의 채널마다 평균, 표준편차를 적용해주어야하기 떄문이다.\n",
    "####후에 transform모듈을 활용하여 이미지 데이터를 불러올때 텐서형태로 변환, 데이터 정규화를 동시에 할 수 있다."
   ]
  },
  {
   "cell_type": "code",
   "execution_count": 5,
   "metadata": {
    "id": "PvHEL3fCPPM2"
   },
   "outputs": [
    {
     "name": "stdout",
     "output_type": "stream",
     "text": [
      "Files already downloaded and verified\n"
     ]
    }
   ],
   "source": [
    "trainset = torchvision.datasets.CIFAR10(root='./data', train=True, download=True, transform=transform) \n",
    "#trainset을 불러올때, transpose 시켜준다->텐서로 변환 및 정규화"
   ]
  },
  {
   "cell_type": "code",
   "execution_count": 6,
   "metadata": {},
   "outputs": [
    {
     "data": {
      "text/plain": [
       "torchvision.datasets.cifar.CIFAR10"
      ]
     },
     "execution_count": 6,
     "metadata": {},
     "output_type": "execute_result"
    }
   ],
   "source": [
    "type(trainset)"
   ]
  },
  {
   "cell_type": "code",
   "execution_count": 8,
   "metadata": {},
   "outputs": [
    {
     "name": "stdout",
     "output_type": "stream",
     "text": [
      "Dataset CIFAR10\n",
      "    Number of datapoints: 50000\n",
      "    Root location: ./data\n",
      "    Split: Train\n",
      "    StandardTransform\n",
      "Transform: Compose(\n",
      "               ToTensor()\n",
      "               Normalize(mean=(0.5, 0.5, 0.5), std=(0.5, 0.5, 0.5))\n",
      "           )\n"
     ]
    }
   ],
   "source": [
    "print(trainset)"
   ]
  },
  {
   "cell_type": "code",
   "execution_count": 9,
   "metadata": {
    "id": "NHRx-0l8PPKy"
   },
   "outputs": [],
   "source": [
    "trainloader = torch.utils.data.DataLoader(trainset, batch_size=4, shuffle=True, num_workers=2)"
   ]
  },
  {
   "cell_type": "code",
   "execution_count": 10,
   "metadata": {},
   "outputs": [
    {
     "name": "stdout",
     "output_type": "stream",
     "text": [
      "<torch.utils.data.dataloader.DataLoader object at 0x000001D428F93C88>\n"
     ]
    }
   ],
   "source": [
    "print(trainloader)"
   ]
  },
  {
   "cell_type": "code",
   "execution_count": 12,
   "metadata": {},
   "outputs": [
    {
     "name": "stderr",
     "output_type": "stream",
     "text": [
      "Clipping input data to the valid range for imshow with RGB data ([0..1] for floats or [0..255] for integers).\n"
     ]
    },
    {
     "data": {
      "text/plain": [
       "<matplotlib.image.AxesImage at 0x1d428fc1948>"
      ]
     },
     "execution_count": 12,
     "metadata": {},
     "output_type": "execute_result"
    },
    {
     "data": {
      "image/png": "[encoded data removed]",
      "text/plain": [
       "<Figure size 432x288 with 1 Axes>"
      ]
     },
     "metadata": {
      "needs_background": "light"
     },
     "output_type": "display_data"
    }
   ],
   "source": [
    "#######sample data\n",
    "sample=trainset[1][0].numpy()\n",
    "sample=np.transpose(sample,(1,2,0))\n",
    "plt.imshow(sample)"
   ]
  },
  {
   "cell_type": "code",
   "execution_count": 13,
   "metadata": {
    "colab": {
     "base_uri": "https://localhost:8080/"
    },
    "id": "cBHzqpLNPPJG",
    "outputId": "96b6ec3d-326c-4f4c-fd63-c3fc1aa9ec1d"
   },
   "outputs": [
    {
     "name": "stdout",
     "output_type": "stream",
     "text": [
      "Files already downloaded and verified\n"
     ]
    }
   ],
   "source": [
    "testset = torchvision.datasets.CIFAR10(root='./data', train=False, download=True, transform=transform)"
   ]
  },
  {
   "cell_type": "code",
   "execution_count": 17,
   "metadata": {
    "id": "cMSwrZnRPPHP"
   },
   "outputs": [],
   "source": [
    "testloader = torch.utils.data.DataLoader(testset, batch_size=4, shuffle=False, num_workers=2) \n",
    "#test data는 shuffle X"
   ]
  },
  {
   "cell_type": "code",
   "execution_count": 18,
   "metadata": {
    "id": "VW5ASV9dPPFM"
   },
   "outputs": [],
   "source": [
    "classes = ('plane', 'car', 'bird', 'cat', 'deer', 'dog', 'frog', 'horse', 'ship', 'truck') #Cifar dataset에 이미지 데이터 범주별로 입력"
   ]
  },
  {
   "cell_type": "code",
   "execution_count": 19,
   "metadata": {
    "id": "AXe9L2BhPPDU"
   },
   "outputs": [],
   "source": [
    "def imshow(img) :\n",
    "  img = img/2+0.5 #unnormalize\n",
    "  npimg = img.numpy()\n",
    "  plt.imshow(np.transpose(npimg, (1, 2, 0)))\n",
    "  plt.show()"
   ]
  },
  {
   "cell_type": "code",
   "execution_count": 20,
   "metadata": {
    "id": "DWOUWypOPPBc"
   },
   "outputs": [],
   "source": [
    "dataiter = iter(trainloader)\n",
    "images, labels = dataiter.next()\n",
    "#iter() 함수로 trainloader에 들어있는 이미지와 라벨을 꺼낼 수 있는 객체를 생성함\n",
    "#next() 함수로 이미지와 데이터 라벨을 꺼내옴"
   ]
  },
  {
   "cell_type": "code",
   "execution_count": 26,
   "metadata": {},
   "outputs": [
    {
     "name": "stdout",
     "output_type": "stream",
     "text": [
      "tensor([[[[-0.1529, -0.1373, -0.2392,  ..., -0.1529, -0.3098, -0.3961],\n",
      "          [-0.7255, -0.4275, -0.3098,  ..., -0.3176, -0.1922, -0.2627],\n",
      "          [-0.7176, -0.9294, -0.7255,  ..., -0.5451, -0.3020, -0.3176],\n",
      "          ...,\n",
      "          [-0.1765, -0.2471, -0.3098,  ..., -0.1373, -0.0824, -0.1843],\n",
      "          [-0.0824, -0.3882, -0.2941,  ..., -0.0902, -0.0275, -0.1765],\n",
      "          [-0.0980, -0.1686, -0.0353,  ..., -0.0745, -0.4353, -0.3882]],\n",
      "\n",
      "         [[ 0.3176,  0.3961,  0.3333,  ...,  0.1059, -0.0353, -0.0980],\n",
      "          [-0.2784,  0.0588,  0.1922,  ..., -0.0275,  0.0980,  0.0353],\n",
      "          [-0.2392, -0.4588, -0.3020,  ..., -0.2235,  0.0118, -0.0196],\n",
      "          ...,\n",
      "          [ 0.5137,  0.4353,  0.3725,  ...,  0.3412,  0.3804,  0.2627],\n",
      "          [ 0.5216,  0.1922,  0.2706,  ...,  0.3725,  0.4196,  0.2549],\n",
      "          [ 0.4902,  0.4275,  0.5686,  ...,  0.3725, -0.0588,  0.0353]],\n",
      "\n",
      "         [[-0.4510, -0.4275, -0.5373,  ..., -0.4745, -0.6471, -0.7412],\n",
      "          [-0.8118, -0.6078, -0.6392,  ..., -0.6314, -0.5216, -0.6235],\n",
      "          [-0.8275, -1.0000, -0.9529,  ..., -0.8745, -0.6392, -0.6863],\n",
      "          ...,\n",
      "          [-0.6314, -0.7569, -0.8824,  ..., -0.4667, -0.4118, -0.5137],\n",
      "          [-0.5843, -0.8980, -0.8431,  ..., -0.4196, -0.3725, -0.5216],\n",
      "          [-0.5373, -0.6392, -0.6157,  ..., -0.3882, -0.6706, -0.7490]]],\n",
      "\n",
      "\n",
      "        [[[-0.6627, -0.6471, -0.4745,  ..., -0.7255, -0.7333, -0.7333],\n",
      "          [-0.5843,  0.0824,  0.5922,  ..., -0.7333, -0.7490, -0.7569],\n",
      "          [-0.4745,  0.5137,  0.7725,  ..., -0.7176, -0.7255, -0.7333],\n",
      "          ...,\n",
      "          [ 0.7255,  0.7255,  0.7412,  ...,  0.7333,  0.7882,  0.8039],\n",
      "          [ 0.7569,  0.7569,  0.7647,  ...,  0.7490,  0.8196,  0.8039],\n",
      "          [ 0.7725,  0.7647,  0.7804,  ...,  0.8196,  0.8039,  0.8039]],\n",
      "\n",
      "         [[-0.0824, -0.0745, -0.0275,  ...,  0.0039, -0.0118, -0.0039],\n",
      "          [-0.0431,  0.1765,  0.3804,  ...,  0.0353,  0.0196,  0.0196],\n",
      "          [-0.0039,  0.2627,  0.4039,  ...,  0.0588,  0.0431,  0.0431],\n",
      "          ...,\n",
      "          [ 0.7176,  0.7176,  0.7412,  ...,  0.5137,  0.7569,  0.7961],\n",
      "          [ 0.7333,  0.7255,  0.7333,  ...,  0.6706,  0.7961,  0.7882],\n",
      "          [ 0.7333,  0.7255,  0.7412,  ...,  0.8196,  0.8039,  0.7961]],\n",
      "\n",
      "         [[ 0.3098,  0.2549,  0.2078,  ...,  0.4196,  0.4118,  0.4118],\n",
      "          [ 0.2784, -0.0431, -0.2549,  ...,  0.4588,  0.4510,  0.4431],\n",
      "          [ 0.2549, -0.2549, -0.3569,  ...,  0.4902,  0.4745,  0.4745],\n",
      "          ...,\n",
      "          [ 0.6863,  0.6863,  0.7020,  ..., -0.0510,  0.7333,  0.7882],\n",
      "          [ 0.7020,  0.7020,  0.7098,  ...,  0.5059,  0.7882,  0.7725],\n",
      "          [ 0.7098,  0.7020,  0.7176,  ...,  0.7882,  0.7725,  0.7569]]],\n",
      "\n",
      "\n",
      "        [[[ 0.3333,  0.3255,  0.3333,  ...,  0.2784,  0.2784,  0.3020],\n",
      "          [ 0.4275,  0.4118,  0.4118,  ...,  0.3490,  0.3490,  0.3725],\n",
      "          [ 0.4510,  0.4275,  0.4275,  ...,  0.3882,  0.3961,  0.3882],\n",
      "          ...,\n",
      "          [ 0.5373,  0.5059,  0.5137,  ...,  0.4510,  0.4745,  0.5059],\n",
      "          [ 0.4902,  0.4510,  0.4980,  ...,  0.4431,  0.4667,  0.4588],\n",
      "          [ 0.4824,  0.4667,  0.5059,  ...,  0.4824,  0.4588,  0.4510]],\n",
      "\n",
      "         [[ 0.2941,  0.2784,  0.2863,  ...,  0.2706,  0.2706,  0.2941],\n",
      "          [ 0.3882,  0.3647,  0.3725,  ...,  0.3412,  0.3412,  0.3647],\n",
      "          [ 0.4118,  0.3882,  0.3882,  ...,  0.3882,  0.3882,  0.3882],\n",
      "          ...,\n",
      "          [ 0.5059,  0.4745,  0.4824,  ...,  0.4196,  0.4431,  0.4745],\n",
      "          [ 0.4588,  0.4196,  0.4667,  ...,  0.4118,  0.4353,  0.4275],\n",
      "          [ 0.4510,  0.4353,  0.4745,  ...,  0.4510,  0.4275,  0.4196]],\n",
      "\n",
      "         [[ 0.3647,  0.3569,  0.3569,  ...,  0.3333,  0.3333,  0.3569],\n",
      "          [ 0.4431,  0.4275,  0.4353,  ...,  0.3882,  0.3882,  0.4118],\n",
      "          [ 0.4510,  0.4275,  0.4353,  ...,  0.4196,  0.4196,  0.4196],\n",
      "          ...,\n",
      "          [ 0.4824,  0.4510,  0.4588,  ...,  0.3961,  0.4196,  0.4510],\n",
      "          [ 0.4353,  0.3961,  0.4431,  ...,  0.3882,  0.4118,  0.4039],\n",
      "          [ 0.4275,  0.4118,  0.4510,  ...,  0.4275,  0.4039,  0.3961]]],\n",
      "\n",
      "\n",
      "        [[[ 0.0196,  0.0039,  0.0118,  ...,  0.0196,  0.0196,  0.0275],\n",
      "          [-0.0118, -0.0039,  0.0118,  ...,  0.0353,  0.0118,  0.0118],\n",
      "          [ 0.0039,  0.0039,  0.0118,  ...,  0.1137,  0.0902,  0.0431],\n",
      "          ...,\n",
      "          [-0.0745, -0.0902, -0.0667,  ..., -0.0745, -0.0745, -0.0588],\n",
      "          [-0.1294, -0.1294, -0.1216,  ..., -0.0510, -0.0275, -0.0510],\n",
      "          [-0.1765, -0.1686, -0.1529,  ..., -0.0196, -0.0431, -0.0510]],\n",
      "\n",
      "         [[ 0.3255,  0.3176,  0.3098,  ...,  0.3176,  0.3176,  0.3176],\n",
      "          [ 0.3490,  0.3333,  0.3333,  ...,  0.3176,  0.3098,  0.3176],\n",
      "          [ 0.3569,  0.3490,  0.3569,  ...,  0.3490,  0.3490,  0.3333],\n",
      "          ...,\n",
      "          [-0.0196, -0.0353, -0.0118,  ..., -0.0118, -0.0275, -0.0275],\n",
      "          [-0.0353, -0.0431, -0.0275,  ...,  0.0196,  0.0275, -0.0118],\n",
      "          [-0.0824, -0.0745, -0.0667,  ...,  0.0118, -0.0275, -0.0510]],\n",
      "\n",
      "         [[ 0.5843,  0.5529,  0.5922,  ...,  0.5765,  0.5686,  0.5686],\n",
      "          [ 0.6157,  0.5765,  0.5843,  ...,  0.5686,  0.5608,  0.5843],\n",
      "          [ 0.6000,  0.5922,  0.5843,  ...,  0.5608,  0.5765,  0.5843],\n",
      "          ...,\n",
      "          [-0.4902, -0.4980, -0.4745,  ..., -0.4588, -0.4745, -0.4980],\n",
      "          [-0.5373, -0.5373, -0.5216,  ..., -0.4431, -0.4353, -0.4824],\n",
      "          [-0.5922, -0.5843, -0.5765,  ..., -0.4588, -0.4824, -0.4980]]]])\n",
      "tensor([6, 0, 4, 1])\n"
     ]
    }
   ],
   "source": [
    "print(images) #batch size가 4이기 때문에 4개에 이미지에 대한 Tesnsor 반환\n",
    "print(labels) #4개의 이미지에 대한 라벨값 추출"
   ]
  },
  {
   "cell_type": "code",
   "execution_count": 27,
   "metadata": {
    "id": "TDae8vBFPO_p"
   },
   "outputs": [
    {
     "data": {
      "image/png": "[encoded data removed]",
      "text/plain": [
       "<Figure size 432x288 with 1 Axes>"
      ]
     },
     "metadata": {
      "needs_background": "light"
     },
     "output_type": "display_data"
    },
    {
     "name": "stdout",
     "output_type": "stream",
     "text": [
      "GroundTruth:   frog plane  deer   car\n"
     ]
    }
   ],
   "source": [
    "imshow(torchvision.utils.make_grid(images)) #여러 이미지를 한 번에 출력\n",
    "print('GroundTruth: ', ' '.join('%5s' % classes[labels[j]] for j in range(4))) #이미지와 실제 라벨값 추출"
   ]
  },
  {
   "cell_type": "markdown",
   "metadata": {
    "id": "-jTedT4V9gKq"
   },
   "source": [
    "# 2. 모형 구축"
   ]
  },
  {
   "cell_type": "code",
   "execution_count": 28,
   "metadata": {
    "id": "IO4uLfbBPO9l"
   },
   "outputs": [],
   "source": [
    "class Net(nn.Module): #신경망을 정의할때 nn.Module을 활용하여 만드는 것이 일반적\n",
    "    def __init__(self): # __init__에서 함수를 정의함\n",
    "        super(Net, self).__init__() #super()를 통해 클래스 상속, super(모델명,self).__init__을 통해 nn.Module을 실행시키는 코드\n",
    "        self.conv1 = nn.Conv2d(3, 6, 5) #컨볼루션 레이어->학습가능한 필터로 이루어진 부분, 필터란:이미지의 특징을 찿아내기 위한 공용파라미터\n",
    "        self.pool = nn.MaxPool2d(2, 2)\n",
    "        self.conv2 = nn.Conv2d(6, 16, 5)#conv2d(input,output,kernel_size)\n",
    "        self.fc1 = nn.Linear(16 * 5 * 5, 120) #nn.Linear(input feature, output feature),선형변환을 적용하는 모듈\n",
    "        self.fc2 = nn.Linear(120, 84) \n",
    "        self.fc3 = nn.Linear(84, 10)\n",
    "        \n",
    "    def forward(self, x): #forward에서 모델이 어떻게 학습할지 코딩\n",
    "        x = self.pool(F.relu(self.conv1(x))) #covolution1+relu함수 적용+maxpool=14x14x6\n",
    "        x = self.pool(F.relu(self.conv2(x))) #convolution2+relu+maxpool=5x5x16\n",
    "        x = x.view(-1, 16 * 5 * 5) # x = torch.flatten(x, 1) #3차원->1차원으로 평탄화작업\n",
    "        x = F.relu(self.fc1(x)) #fully-connected층(1차원변환데이터가 각 범주에 속할확률)+Relu(activation function=분류를위한 데이터 특징강조,비선형) \n",
    "        x = F.relu(self.fc2(x)) #fully-connected층(1차원변환데이터가 각 범주에속학확률)+Relu(activation function=분류를 위한 데이터 특장강조,비선형)\n",
    "        x = self.fc3(x)\n",
    "        return x\n",
    "        \n",
    "net = Net() #여기에 "
   ]
  },
  {
   "cell_type": "code",
   "execution_count": 29,
   "metadata": {
    "id": "bVnH4AXvPO7o"
   },
   "outputs": [],
   "source": [
    "criterion = nn.CrossEntropyLoss() #손실함수->예측값과 실제값 비교\n",
    "optimizer = optim.SGD(net.parameters(), lr=0.001, momentum=0.9) \n",
    "#optimization gradient(기울기)구해서 가중치 값을 변환시켜\n",
    "#최적의 weight값을 찿는다.\n",
    "#SGD의 원리는 loss함수의 미분을 이용하여 loss를 줄이는것 gradient가 -가 되도록 값을 이동시키면 언젠가 최소값을 찿을 수 있다는 아이디어\n",
    "#learning rate=미분값을 얼만큼 이동시킬지->조금씩해야함\n",
    "#momentum=이전 가중치의 업데이트값의 일정 비율을 반영하는 매개변수"
   ]
  },
  {
   "cell_type": "markdown",
   "metadata": {
    "id": "_yuhJpW09qsS"
   },
   "source": [
    "# 3. 모형 학습"
   ]
  },
  {
   "cell_type": "code",
   "execution_count": 33,
   "metadata": {
    "id": "KAz3sj9gPO5x"
   },
   "outputs": [
    {
     "name": "stdout",
     "output_type": "stream",
     "text": [
      "[1,  2000] loss: 0.987\n",
      "[1,  4000] loss: 0.993\n",
      "[1,  6000] loss: 0.987\n",
      "[1,  8000] loss: 1.007\n",
      "[1, 10000] loss: 1.002\n",
      "[1, 12000] loss: 0.989\n",
      "[2,  2000] loss: 0.995\n",
      "[2,  4000] loss: 0.991\n",
      "[2,  6000] loss: 1.004\n",
      "[2,  8000] loss: 1.007\n",
      "[2, 10000] loss: 0.973\n",
      "[2, 12000] loss: 0.990\n",
      "Finished Training\n"
     ]
    }
   ],
   "source": [
    "for epoch in range(2): # 여러번 데이터셋 반복하기\n",
    "\n",
    "    running_loss = 0.0\n",
    "    for i, data in enumerate(trainloader, 0): #enumerate 인덱스와 원소 tuple로 반환\n",
    "        # 입력값을 얻습니다. 데이타는 [입력값, 레이블]의 목록입니다.\n",
    "        inputs, labels = data\n",
    "        \n",
    "        # 매개변수 변화도를 0으로 만듭니다.\n",
    "        optimizer.zero_grad() #한번 학습이 완료되면, gradient를 0으로 만들어주어야함, 초기화하지 않을시 의도한 방향과 다른방향으로 학습할 가능성\n",
    "        \n",
    "        # 순전파 + 역전파 + 최적화\n",
    "        outputs = net(inputs) #CNN모델 적용부분\n",
    "        loss = criterion(outputs, labels) #loss계산\n",
    "        loss.backward() #backpropogation에서 gradient를 계산, loss값들을 가중치들에 대해서 미분 ex)x가 변화했을때 함수g가 얼마나 변하는지 알 수 있음\n",
    "        optimizer.step() #업데이트할 parameter와 learning rate 들을 step() method를 통해 업데이트 한다\n",
    "        \n",
    "        # 통계 추력\n",
    "        running_loss += loss.item()\n",
    "        if i % 2000 == 1999: # 매 2000번 미니배치마다 출력하기\n",
    "            print('[%d, %5d] loss: %.3f' %\n",
    "                  (epoch+1, i+1, running_loss / 2000))\n",
    "            running_loss =0.0\n",
    "            \n",
    "print('Finished Training')\n",
    "\n",
    "PATH = './cifar_net.pth' #저장경로\n",
    "torch.save(net.state_dict(), PATH) #저장하기"
   ]
  },
  {
   "cell_type": "markdown",
   "metadata": {
    "id": "v3kplmDh9z2x"
   },
   "source": [
    "# 4. Test 데이터 예측"
   ]
  },
  {
   "cell_type": "code",
   "execution_count": 35,
   "metadata": {
    "id": "0w4YJ491PO2G"
   },
   "outputs": [
    {
     "data": {
      "image/png": "[encoded data removed]",
      "text/plain": [
       "<Figure size 432x288 with 1 Axes>"
      ]
     },
     "metadata": {
      "needs_background": "light"
     },
     "output_type": "display_data"
    },
    {
     "name": "stdout",
     "output_type": "stream",
     "text": [
      "GroundTruth:    cat  ship  ship plane\n",
      "Predicted :   ship   car  ship  ship\n"
     ]
    }
   ],
   "source": [
    "dataiter = iter(testloader)\n",
    "images, labels = dataiter.next()\n",
    "#iter() 함수로 trainloader에 들어있는 이미지와 라벨을 꺼낼 수 있는 객체를 생성함\n",
    "#next() 함수로 이미지와 데이터 라벨을 꺼내옴\n",
    "# 이미지 출력하기\n",
    "\n",
    "imshow(torchvision.utils.make_grid(images))\n",
    "print('GroundTruth: ', ' '.join('%5s' % classes[labels[j]] for j in range(4)))\n",
    "\n",
    "net = Net() #net초기화\n",
    "net.load_state_dict(torch.load(PATH)) #train으로 학습한 모델의 파라미터 불러오기 (dictionary형태로 parameter정보가 포함되어있음)\n",
    "outputs = net(images) #모델적용\n",
    "_, predicted = torch.max(outputs, 1) #예측최대값과 최대값에 인데스를 튜플로 반환,행을 기준으로 최대값 찿음\n",
    "print('Predicted : ', ' '.join('%5s' % classes[predicted[j]] for j in range(4)))"
   ]
  },
  {
   "cell_type": "code",
   "execution_count": 36,
   "metadata": {
    "colab": {
     "base_uri": "https://localhost:8080/"
    },
    "id": "FMnDllqwPd3q",
    "outputId": "56856c19-5a69-404e-e3ae-03f867b819c1"
   },
   "outputs": [
    {
     "name": "stdout",
     "output_type": "stream",
     "text": [
      "Accuracy of the network on the 10000 test images: 60 %\n"
     ]
    }
   ],
   "source": [
    "correct = 0\n",
    "total = 0\n",
    "with torch.no_grad(): #test예측할때는 gradient,context를 비활성화 시켜줌으로써 계산속도 향상시켜줌\n",
    "    for data in testloader:\n",
    "        images, labels = data\n",
    "        outputs = net(images) #모델적용\n",
    "        _, predicted = torch.max(outputs.data, 1) #행을 기준으로 최대값 찿음\n",
    "        total += labels.size(0) #전체 10000개\n",
    "        correct += (predicted == labels).sum().item() #예측값==실제값 카운트\n",
    "        \n",
    "print('Accuracy of the network on the 10000 test images: %d %%' % (100 * correct / total))"
   ]
  },
  {
   "cell_type": "code",
   "execution_count": null,
   "metadata": {
    "id": "LF-bEPpvPd2D"
   },
   "outputs": [],
   "source": [
    "# class_correct = list(0. for i in range(10))\n",
    "# class_total = list(0. for i in range(10))\n",
    "# with torch.no_grad():\n",
    "#     for data in testloader:\n",
    "#         images, labels = data\n",
    "#         outputs = net(images)\n",
    "#         _, prediceted = torch.max(outputs, 1)\n",
    "#         c = (predicted == labels).squeeze()\n",
    "#         for i in range(4):\n",
    "#             label = labels[i]\n",
    "#             class_correct[label] += c[i].item()\n",
    "#             class_total[label] += 1\n",
    "            \n",
    "# for i in range(10):\n",
    "#     print('Accuract of %5s : %2d %%' %(classes[i], 100 * class_correct[i] / class_total[i]))"
   ]
  },
  {
   "cell_type": "code",
   "execution_count": 37,
   "metadata": {
    "id": "YKJJMIDG7xBl"
   },
   "outputs": [
    {
     "name": "stdout",
     "output_type": "stream",
     "text": [
      "Accuracy for class: plane is 63.10 %\n",
      "Accuracy for class: car   is 75.60 %\n",
      "Accuracy for class: bird  is 39.40 %\n",
      "Accuracy for class: cat   is 56.60 %\n",
      "Accuracy for class: deer  is 39.30 %\n",
      "Accuracy for class: dog   is 52.90 %\n",
      "Accuracy for class: frog  is 63.60 %\n",
      "Accuracy for class: horse is 59.40 %\n",
      "Accuracy for class: ship  is 76.40 %\n",
      "Accuracy for class: truck is 78.90 %\n"
     ]
    }
   ],
   "source": [
    "correct_pred = {classname: 0 for classname in classes}\n",
    "total_pred = {classname: 0 for classname in classes}\n",
    "\n",
    "with torch.no_grad():\n",
    "    for data in testloader:\n",
    "        images, labels = data\n",
    "        outputs = net(images) #모델 적용\n",
    "        _, predictions = torch.max(outputs, 1) #행기준으로 예측 최대값 찿음\n",
    "        for label, prediction in zip(labels, predictions): #zip함수를 통해 (실제값,예측값)형태로 묶음\n",
    "            if label == prediction:\n",
    "                correct_pred[classes[label]] += 1\n",
    "            total_pred[classes[label]] += 1\n",
    "\n",
    "for classname, correct_count in correct_pred.items():\n",
    "    accuracy = 100 * float(correct_count) / total_pred[classname]\n",
    "    print(f'Accuracy for class: {classname:5s} is {accuracy:.2f} %')"
   ]
  },
  {
   "cell_type": "code",
   "execution_count": null,
   "metadata": {},
   "outputs": [],
   "source": []
  }
 ],
 "metadata": {
  "colab": {
   "collapsed_sections": [],
   "name": "CIFAR10_CNN.ipynb",
   "provenance": [],
   "toc_visible": true
  },
  "kernelspec": {
   "display_name": "Python 3 (ipykernel)",
   "language": "python",
   "name": "python3"
  },
  "language_info": {
   "codemirror_mode": {
    "name": "ipython",
    "version": 3
   },
   "file_extension": ".py",
   "mimetype": "text/x-python",
   "name": "python",
   "nbconvert_exporter": "python",
   "pygments_lexer": "ipython3",
   "version": "3.7.13"
  }
 },
 "nbformat": 4,
 "nbformat_minor": 4
}
